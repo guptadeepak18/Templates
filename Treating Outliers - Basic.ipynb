{
 "cells": [
  {
   "cell_type": "markdown",
   "metadata": {},
   "source": [
    "# Treating Outliers"
   ]
  },
  {
   "cell_type": "markdown",
   "metadata": {},
   "source": [
    "In this Notebook we will discuss how to treat extreme values once they are detected. For this, we will use the Boston housing data set.\n",
    "\n",
    "If you missed to read how to identify outliers in the data, refer to my other notebook - \"[Truth about Outliers](https://nbviewer.jupyter.org/github/guptadeepak18/Templates/blob/main/Truth%20about%20Outliers.ipynb)\"\n",
    "\n",
    "For <b>advaced</b> techniques to identify & treat Outliers, refer to my notebook [here](https://nbviewer.jupyter.org/github/guptadeepak18/Templates/blob/main/Truth%20about%20Outliers.ipynb)"
   ]
  },
  {
   "cell_type": "code",
   "execution_count": 7,
   "metadata": {
    "ExecuteTime": {
     "end_time": "2021-02-19T20:37:10.083161Z",
     "start_time": "2021-02-19T20:37:10.076155Z"
    }
   },
   "outputs": [],
   "source": [
    "#Load libraries\n",
    "from sklearn.datasets import load_boston\n",
    "import numpy as np\n",
    "import pandas as pd\n",
    "import seaborn as sns\n",
    "import matplotlib.pyplot as plt\n",
    "\n",
    "#Extra libraries\n",
    "from scipy.stats.mstats import winsorize\n",
    "from sklearn.experimental import enable_iterative_imputer  # noqa\n",
    "from sklearn.impute import IterativeImputer\n",
    "from sklearn.linear_model import BayesianRidge\n",
    "from sklearn.pipeline import make_pipeline\n",
    "import random\n",
    "import warnings\n",
    "warnings.filterwarnings(\"ignore\")\n",
    "\n",
    "#Set random seed\n",
    "random.seed(10)"
   ]
  },
  {
   "cell_type": "code",
   "execution_count": 3,
   "metadata": {
    "ExecuteTime": {
     "end_time": "2021-02-19T19:40:20.133436Z",
     "start_time": "2021-02-19T19:40:20.070466Z"
    }
   },
   "outputs": [
    {
     "data": {
      "text/html": [
       "<div>\n",
       "<style scoped>\n",
       "    .dataframe tbody tr th:only-of-type {\n",
       "        vertical-align: middle;\n",
       "    }\n",
       "\n",
       "    .dataframe tbody tr th {\n",
       "        vertical-align: top;\n",
       "    }\n",
       "\n",
       "    .dataframe thead th {\n",
       "        text-align: right;\n",
       "    }\n",
       "</style>\n",
       "<table border=\"1\" class=\"dataframe\">\n",
       "  <thead>\n",
       "    <tr style=\"text-align: right;\">\n",
       "      <th></th>\n",
       "      <th>CRIM</th>\n",
       "      <th>ZN</th>\n",
       "      <th>INDUS</th>\n",
       "      <th>CHAS</th>\n",
       "      <th>NOX</th>\n",
       "      <th>RM</th>\n",
       "      <th>AGE</th>\n",
       "      <th>DIS</th>\n",
       "      <th>RAD</th>\n",
       "      <th>TAX</th>\n",
       "      <th>PTRATIO</th>\n",
       "      <th>B</th>\n",
       "      <th>LSTAT</th>\n",
       "    </tr>\n",
       "  </thead>\n",
       "  <tbody>\n",
       "    <tr>\n",
       "      <th>0</th>\n",
       "      <td>0.00632</td>\n",
       "      <td>18.0</td>\n",
       "      <td>2.31</td>\n",
       "      <td>0.0</td>\n",
       "      <td>0.538</td>\n",
       "      <td>6.575</td>\n",
       "      <td>65.2</td>\n",
       "      <td>4.0900</td>\n",
       "      <td>1.0</td>\n",
       "      <td>296.0</td>\n",
       "      <td>15.3</td>\n",
       "      <td>396.90</td>\n",
       "      <td>4.98</td>\n",
       "    </tr>\n",
       "    <tr>\n",
       "      <th>1</th>\n",
       "      <td>0.02731</td>\n",
       "      <td>0.0</td>\n",
       "      <td>7.07</td>\n",
       "      <td>0.0</td>\n",
       "      <td>0.469</td>\n",
       "      <td>6.421</td>\n",
       "      <td>78.9</td>\n",
       "      <td>4.9671</td>\n",
       "      <td>2.0</td>\n",
       "      <td>242.0</td>\n",
       "      <td>17.8</td>\n",
       "      <td>396.90</td>\n",
       "      <td>9.14</td>\n",
       "    </tr>\n",
       "    <tr>\n",
       "      <th>2</th>\n",
       "      <td>0.02729</td>\n",
       "      <td>0.0</td>\n",
       "      <td>7.07</td>\n",
       "      <td>0.0</td>\n",
       "      <td>0.469</td>\n",
       "      <td>7.185</td>\n",
       "      <td>61.1</td>\n",
       "      <td>4.9671</td>\n",
       "      <td>2.0</td>\n",
       "      <td>242.0</td>\n",
       "      <td>17.8</td>\n",
       "      <td>392.83</td>\n",
       "      <td>4.03</td>\n",
       "    </tr>\n",
       "    <tr>\n",
       "      <th>3</th>\n",
       "      <td>0.03237</td>\n",
       "      <td>0.0</td>\n",
       "      <td>2.18</td>\n",
       "      <td>0.0</td>\n",
       "      <td>0.458</td>\n",
       "      <td>6.998</td>\n",
       "      <td>45.8</td>\n",
       "      <td>6.0622</td>\n",
       "      <td>3.0</td>\n",
       "      <td>222.0</td>\n",
       "      <td>18.7</td>\n",
       "      <td>394.63</td>\n",
       "      <td>2.94</td>\n",
       "    </tr>\n",
       "    <tr>\n",
       "      <th>4</th>\n",
       "      <td>0.06905</td>\n",
       "      <td>0.0</td>\n",
       "      <td>2.18</td>\n",
       "      <td>0.0</td>\n",
       "      <td>0.458</td>\n",
       "      <td>7.147</td>\n",
       "      <td>54.2</td>\n",
       "      <td>6.0622</td>\n",
       "      <td>3.0</td>\n",
       "      <td>222.0</td>\n",
       "      <td>18.7</td>\n",
       "      <td>396.90</td>\n",
       "      <td>5.33</td>\n",
       "    </tr>\n",
       "  </tbody>\n",
       "</table>\n",
       "</div>"
      ],
      "text/plain": [
       "      CRIM    ZN  INDUS  CHAS    NOX     RM   AGE     DIS  RAD    TAX  \\\n",
       "0  0.00632  18.0   2.31   0.0  0.538  6.575  65.2  4.0900  1.0  296.0   \n",
       "1  0.02731   0.0   7.07   0.0  0.469  6.421  78.9  4.9671  2.0  242.0   \n",
       "2  0.02729   0.0   7.07   0.0  0.469  7.185  61.1  4.9671  2.0  242.0   \n",
       "3  0.03237   0.0   2.18   0.0  0.458  6.998  45.8  6.0622  3.0  222.0   \n",
       "4  0.06905   0.0   2.18   0.0  0.458  7.147  54.2  6.0622  3.0  222.0   \n",
       "\n",
       "   PTRATIO       B  LSTAT  \n",
       "0     15.3  396.90   4.98  \n",
       "1     17.8  396.90   9.14  \n",
       "2     17.8  392.83   4.03  \n",
       "3     18.7  394.63   2.94  \n",
       "4     18.7  396.90   5.33  "
      ]
     },
     "execution_count": 3,
     "metadata": {},
     "output_type": "execute_result"
    }
   ],
   "source": [
    "#Load data\n",
    "X, y = load_boston(return_X_y=True)\n",
    "\n",
    "#Create data frame\n",
    "boston = load_boston()\n",
    "columns = boston.feature_names\n",
    "df = pd.DataFrame(X, columns = columns)\n",
    "df.head()"
   ]
  },
  {
   "cell_type": "markdown",
   "metadata": {},
   "source": [
    "Handling outliers can bear the risk of having a substantial impact on the outcome of an analysis or machine learning model. In practice, it is often not very obvious what to do with outlying observations.\n",
    "\n",
    "From a mathematical point of view, there is no right and wrong answer on how to treat outlying observations. A more important role, next to mathematics, can be given to qualitative information you have available in the decision process around outliers. For example, knowing how an outlier arose in the first place can be beneficial for decisions on extreme values.\n",
    "\n",
    "Therefore, let us understand the possible sources of outliers before going deeper into available options for outlier treatment.\n",
    "\n",
    "#### Sources of outliers\n",
    "Next to the distinction between univariate and multivariate, extreme values can be differentiated by source. An <b>error outlier</b> is an outlying observation that stems from an inaccurate measurement, wrong data entry, or is the result of data manipulation. In this case, these data points are usually not part of the population of interest.\n",
    "On the other hand, <b>non-error outliers</b>, also called <b>interesting</b> or <b>random outliers</b>, are part of the population of interest and may hold interesting information."
   ]
  },
  {
   "cell_type": "markdown",
   "metadata": {},
   "source": [
    "### Handling error Outliers\n",
    "Error outliers should be either removed or corrected. The easiest way would be to remove the observations that emerged through inaccurate measurements or data manipulation. Suppose there is a raw version of the underlying data available. In that case, it can be worth retracing the original entry of a data point to avoid a significant loss of information through deletion.\n",
    "\n",
    "However, if you do not have a raw data version at hand but you are sure that you are looking at an error outlier (e.g., a human height measurement of 4 meters/200 inches or a fourth class of a dimension even though you know there should be only three classes of a variable), your best option is to simply remove these entries."
   ]
  },
  {
   "cell_type": "markdown",
   "metadata": {},
   "source": [
    "### Handling non-error outliers\n",
    "There exist three different options on how to treat non-error outliers:\n",
    "1. Keep\n",
    "2. Delete\n",
    "3. Recode\n",
    "\n",
    "### Keep\n",
    "When most of the detected outliers are non-error outliers and rightfully belong to the population of interest, this is a good strategy. Also, you often cannot easily identify whether or not an extreme value is a part of the population of interest or not.\n",
    "\n",
    "When keeping outliers, be aware that they can distort the results of your actual task: e.g. lead to a rejection of the null hypothesis or an over-optimistic prediction. Therefore, it might be worth your while to report your findings, including outliers and excluding outliers to highlight the impact they can have.\n",
    "\n",
    "Another option are robust methods for your actual prediction task or analysis. These methods reduce the influence of extreme values using more robust statistics (e.g., median) or other non-parametric settings (e.g., rank-tests, bootstrapping, or Support Vector Machines).\n",
    "\n",
    "##### For univariate and multivariate outliers:\n",
    "- Collect qualitative information by including and excluding outliers in your analysis to assess their actual impact\n",
    "- Use robust methods to reduce the impact of outliers\n",
    "- Keep outliers if they are likely to belong to the population of interest and beware of the risks they bring when making decisions\n",
    "- And always and most importantly: Report all findings!\n",
    "\n",
    "### Delete\n",
    "The most straightforward option is to delete any outlying observation. However, this strategy bears a high risk of losing information. Especially if you find many outlying data points, try to avoid this. Also, deleting interesting and influential outliers (points that belong to the population of interest) can falsely impact any output, e.g., prediction or test result, you aim to achieve.\n",
    "\n",
    "##### For univariate and multivariate outliers:\n",
    "- Remove outliers on a low scale and those that are not likely to be from another population\n",
    "- If you choose deletion, always provide two reports of your analysis or outcomes: one with and one without outlying observations\n",
    "\n",
    "### Recode\n",
    "Recoding outliers is a good option to treat outliers and keep as much information as possible simultaneously. This option should always be accompanied by sound reasoning and explanation. There are several different methods to recode an outlier, we will focus on two widely used methods:\n",
    "1. Winsorizing\n",
    "2. Imputation\n",
    "\n",
    "### Winsorizing (Flooring/Ceiling)\n",
    "Winsorizing was introduced by Tukey & McLaughlin in 1963. With winsorizing, any value of a variable above or below a percentile k on each side of the variables’ distribution is replaced with the value of the k-th percentile itself. For example, if k=5, all observations above the 95th percentile are recoded to the value of the 95th percentile, and values below the 5th percent are recoded, respectively. Compared to trimming, winsorizing is a less extreme option by recoding outliers rather than cutting them altogether.\n",
    "\n",
    "<img src=\"https://miro.medium.com/max/700/1*4ZpWyy5_CTHjarjIWzemtQ.png\" width=\"500\" height=\"100\">\n",
    "\n",
    "\n",
    "Winsorization also directly intervenes with the process of outlier detection. The data points above or below a certain threshold are treated, and no independent detection method is needed. However, it goes hand-in-hand with Tukey’s boxplot method as k is often recommended to be set at a <b>sample’s outer fence</b> (3 standard deviations around the mean). This is often at k=5 and, therefore, used as the default value.\n",
    "\n",
    "Let’s look at an example from the previously used Boston housing data set. For the crime rate per capita by town, we found 30 probable outliers (using the Tukey method). Let us first determine the outer fence."
   ]
  },
  {
   "cell_type": "code",
   "execution_count": 4,
   "metadata": {
    "ExecuteTime": {
     "end_time": "2021-02-19T20:33:46.910495Z",
     "start_time": "2021-02-19T20:33:46.892515Z"
    }
   },
   "outputs": [
    {
     "name": "stdout",
     "output_type": "stream",
     "text": [
      "Lower end outer fence:  -10.7030675\n",
      "Upper end outer fence:  14.462195000000001\n"
     ]
    }
   ],
   "source": [
    "# Outer fences of the variable CRIM\n",
    "\n",
    "def fences(df, variable_name):    \n",
    "    q1 = df[variable_name].quantile(0.25)\n",
    "    q3 = df[variable_name].quantile(0.75)\n",
    "    iqr = q3-q1\n",
    "    outer_fence = 3*iqr\n",
    "    outer_fence_le = q1-outer_fence\n",
    "    outer_fence_ue = q3+outer_fence\n",
    "    return outer_fence_le, outer_fence_ue\n",
    "\n",
    "outer_fence_le, outer_fence_ue = fences(df, 'CRIM')\n",
    "\n",
    "print('Lower end outer fence: ', outer_fence_le)\n",
    "print('Upper end outer fence: ', outer_fence_ue)\n"
   ]
  },
  {
   "cell_type": "markdown",
   "metadata": {},
   "source": [
    "The upper outer fence for the variable “CRIM” is roughly 14.46, while the lower end is below zero. Because a crime rate <i>below zero</i> is not meaningful, the data should only be winsorized on its right tail. Now, we can look at values at different percentiles to set <b>k</b>."
   ]
  },
  {
   "cell_type": "code",
   "execution_count": 5,
   "metadata": {
    "ExecuteTime": {
     "end_time": "2021-02-19T20:35:31.725666Z",
     "start_time": "2021-02-19T20:35:31.699666Z"
    }
   },
   "outputs": [
    {
     "name": "stdout",
     "output_type": "stream",
     "text": [
      "90% quantile:    10.753\n",
      "92.5% quantile:  13.5416875\n",
      "95% quantile:    15.78915\n",
      "97.5% quantile:  23.927799999999998\n",
      "99% quantile:    41.37032999999997\n",
      "99.9% quantile:  81.17793950000095\n"
     ]
    }
   ],
   "source": [
    "#Explore different quantiles at the upper end\n",
    "\n",
    "print('90% quantile:   ', df['CRIM'].quantile(0.90))\n",
    "print('92.5% quantile: ', df['CRIM'].quantile(0.925))\n",
    "print('95% quantile:   ', df['CRIM'].quantile(0.95)) \n",
    "print('97.5% quantile: ', df['CRIM'].quantile(0.975))\n",
    "print('99% quantile:   ', df['CRIM'].quantile(0.99))\n",
    "print('99.9% quantile: ', df['CRIM'].quantile(0.999))"
   ]
  },
  {
   "cell_type": "markdown",
   "metadata": {},
   "source": [
    "It looks like the value at 92.5% (13.54) and 95% (15.79) are closest to the upper outer fence. As 95% is more common, we will winsorize the data on k=5 using the winsorize function from scipy:"
   ]
  },
  {
   "cell_type": "code",
   "execution_count": 13,
   "metadata": {
    "ExecuteTime": {
     "end_time": "2021-02-19T20:40:21.827278Z",
     "start_time": "2021-02-19T20:40:21.321568Z"
    }
   },
   "outputs": [
    {
     "name": "stdout",
     "output_type": "stream",
     "text": [
      "             CRIM  CRIM_wins_95%  CRIM_wins_925%\n",
      "count  506.000000     506.000000      506.000000\n",
      "mean     3.613524       2.799611        2.667063\n",
      "std      8.601545       4.678292        4.325374\n",
      "min      0.006320       0.006320        0.006320\n",
      "25%      0.082045       0.082045        0.082045\n",
      "50%      0.256510       0.256510        0.256510\n",
      "75%      3.677083       3.677083        3.677083\n",
      "max     88.976200      15.860300       13.678100\n"
     ]
    },
    {
     "data": {
      "text/plain": [
       "<AxesSubplot:xlabel='CRIM_wins_925%', ylabel='Density'>"
      ]
     },
     "execution_count": 13,
     "metadata": {},
     "output_type": "execute_result"
    },
    {
     "data": {
      "image/png": "[encoded data removed]",
      "text/plain": [
       "<Figure size 1080x288 with 3 Axes>"
      ]
     },
     "metadata": {
      "needs_background": "light"
     },
     "output_type": "display_data"
    }
   ],
   "source": [
    "#Create copy of df\n",
    "df_win = df.copy(deep=True)\n",
    "\n",
    "#Winsorize on right-tail\n",
    "df_win['CRIM_wins_95%'] = winsorize(df['CRIM'], limits=(0, 0.05))\n",
    "df_win['CRIM_wins_925%'] = winsorize(df['CRIM'], limits=(0, 0.075))\n",
    "\n",
    "print(df_win[['CRIM', 'CRIM_wins_95%', 'CRIM_wins_925%']].describe())\n",
    "\n",
    "#Distribution plot: Crime rate per capita by town\n",
    "plt.figure(figsize=(15,4))\n",
    "plt.subplot(1,3,1)\n",
    "sns.distplot(df['CRIM'])\n",
    "\n",
    "#New distribution plots \n",
    "plt.subplot(1,3,2)\n",
    "sns.distplot(df_win['CRIM_wins_95%'])\n",
    "plt.subplot(1,3,3)\n",
    "sns.distplot(df_win['CRIM_wins_925%'])"
   ]
  },
  {
   "cell_type": "markdown",
   "metadata": {},
   "source": [
    "With winsorizing, the mean crime rate per capita changed from 3.61 to 2.80 (95%).\n",
    "\n",
    "#### For univariate outliers:\n",
    "- Winsorize to keep as much data as possible\n",
    "- To find the right winsorization level, know your data! A percentage point close to the outer fence is considered best practice\n",
    "- Zero limits can be meaningful if a variable can not have a value below zero\n",
    "- Report main statistics (e.g., mean, std) before and after winsorizing\n",
    "\n",
    "#### For multivariate outliers:\n",
    "- For multivariate outliers, winsorizing is done on the ellipsoid (holding information from more than one variable)\n",
    "- There doesn’t seem to be an existing python package that deals with winsorization on ellipsoids. Yet, there exists a function called mvTopCoding as part of an R package [sdcMicro](https://www.rdocumentation.org/packages/sdcMicro/versions/5.5.0) that winsorizes outliers on the ellipsoid defined by the (robust) Mahalanobis distance."
   ]
  },
  {
   "cell_type": "markdown",
   "metadata": {},
   "source": [
    "### Imputation\n",
    "Imputation is a method that is often used when handling missing data. However, it is also applied when dealing with extreme values. When using imputation, outliers are removed (and with that become missing values) and are replaced with <b>estimates</b> based on the remaining data.\n",
    "\n",
    "There are several imputation techniques. One that is often used, yet comes with a strong <i>bias</i>, is the simple mean substitution. Here, all outlier or missing values are substituted by the variables’ mean. A better alternative and more robust imputation method is the <b>multiple imputation</b>. \n",
    "\n",
    "In multiple imputation, missing values or outliers are replaced by <b>M</b> plausible estimates retrieved from a prediction model. The outlier becomes the dependent variable of a prediction model (e.g., regression, random forest etc.), and is estimated based on the remaining information non-missing/non-outlier values in an observation.\n",
    "\n",
    "<img src=\"https://miro.medium.com/max/700/1*OywpRVqMAgcDkf3WSbqtCQ.png\" width=\"500\" height=\"100\">\n",
    "\n",
    "Choosing the right number of plausible estimates <b>M</b> for a missing value or outlier is frequently discussed in literature and it is often [recommended](https://stefvanbuuren.name/fimd/sec-howmany.html):\n",
    "- Using m = 5−20 will be enough under moderate missingness\n",
    "\n",
    "<b>For more details on various imputation techniques refer to my Notebook [here](https://nbviewer.jupyter.org/github/guptadeepak18/Templates/blob/main/Treating%20Missing%20Values.ipynb)</b>"
   ]
  },
  {
   "cell_type": "markdown",
   "metadata": {},
   "source": [
    "Let us transform the outliers into missing values. For this, we will use the list of probable outliers detected by the Tukey Method"
   ]
  },
  {
   "cell_type": "code",
   "execution_count": 14,
   "metadata": {
    "ExecuteTime": {
     "end_time": "2021-02-19T20:57:58.306082Z",
     "start_time": "2021-02-19T20:57:58.293088Z"
    }
   },
   "outputs": [
    {
     "name": "stdout",
     "output_type": "stream",
     "text": [
      "Number of Probable Outliers: 30\n",
      "Number of Possible Outliers: 66\n",
      "\n",
      "Probable Outliers Index: [374, 375, 376, 378, 379, 380, 381, 384, 385, 386, 387, 398, 400, 403, 404, 405, 406, 410, 412, 413, 414, 415, 417, 418, 425, 427, 437, 440, 468, 477]\n",
      "\n",
      "Possible Outliers Index: [367, 371, 373, 374, 375, 376, 377, 378, 379, 380, 381, 382, 384, 385, 386, 387, 388, 392, 394, 398, 399, 400, 401, 402, 403, 404, 405, 406, 407, 409, 410, 411, 412, 413, 414, 415, 416, 417, 418, 419, 420, 422, 425, 426, 427, 429, 431, 434, 435, 436, 437, 438, 439, 440, 441, 443, 444, 445, 447, 448, 454, 468, 469, 477, 478, 479]\n"
     ]
    }
   ],
   "source": [
    "#Tukey's method\n",
    "\n",
    "def tukeys_method(df, variable):  # Creating a User defined function\n",
    "    #Takes two parameters: dataframe & variable of interest as string\n",
    "    q1 = df[variable].quantile(0.25)\n",
    "    q3 = df[variable].quantile(0.75)\n",
    "    iqr = q3-q1\n",
    "    inner_fence = 1.5*iqr\n",
    "    outer_fence = 3*iqr\n",
    "    \n",
    "    #inner fence lower and upper end\n",
    "    inner_fence_le = q1-inner_fence\n",
    "    inner_fence_ue = q3+inner_fence\n",
    "    \n",
    "    #outer fence lower and upper end\n",
    "    outer_fence_le = q1-outer_fence\n",
    "    outer_fence_ue = q3+outer_fence\n",
    "    \n",
    "    outliers_prob = []\n",
    "    outliers_poss = []\n",
    "    for index, x in enumerate(df[variable]):\n",
    "        if x <= outer_fence_le or x >= outer_fence_ue:\n",
    "            outliers_prob.append(index)\n",
    "    for index, x in enumerate(df[variable]):\n",
    "        if x <= inner_fence_le or x >= inner_fence_ue:\n",
    "            outliers_poss.append(index)\n",
    "    return outliers_prob, outliers_poss\n",
    "        \n",
    "\n",
    "probable_outliers_tm, possible_outliers_tm = tukeys_method(df, \"CRIM\")\n",
    "\n",
    "print(\"Number of Probable Outliers:\", len(probable_outliers_tm))\n",
    "print(\"Number of Possible Outliers:\", len(possible_outliers_tm))\n",
    "\n",
    "print(\"\\nProbable Outliers Index:\", probable_outliers_tm)\n",
    "print(\"\\nPossible Outliers Index:\", possible_outliers_tm)"
   ]
  },
  {
   "cell_type": "code",
   "execution_count": 15,
   "metadata": {
    "ExecuteTime": {
     "end_time": "2021-02-19T20:59:25.604011Z",
     "start_time": "2021-02-19T20:59:25.570049Z"
    }
   },
   "outputs": [
    {
     "data": {
      "text/html": [
       "<div>\n",
       "<style scoped>\n",
       "    .dataframe tbody tr th:only-of-type {\n",
       "        vertical-align: middle;\n",
       "    }\n",
       "\n",
       "    .dataframe tbody tr th {\n",
       "        vertical-align: top;\n",
       "    }\n",
       "\n",
       "    .dataframe thead th {\n",
       "        text-align: right;\n",
       "    }\n",
       "</style>\n",
       "<table border=\"1\" class=\"dataframe\">\n",
       "  <thead>\n",
       "    <tr style=\"text-align: right;\">\n",
       "      <th></th>\n",
       "      <th>CRIM</th>\n",
       "      <th>ZN</th>\n",
       "      <th>INDUS</th>\n",
       "      <th>CHAS</th>\n",
       "      <th>NOX</th>\n",
       "      <th>RM</th>\n",
       "      <th>AGE</th>\n",
       "      <th>DIS</th>\n",
       "      <th>RAD</th>\n",
       "      <th>TAX</th>\n",
       "      <th>PTRATIO</th>\n",
       "      <th>B</th>\n",
       "      <th>LSTAT</th>\n",
       "    </tr>\n",
       "  </thead>\n",
       "  <tbody>\n",
       "    <tr>\n",
       "      <th>374</th>\n",
       "      <td>NaN</td>\n",
       "      <td>0.0</td>\n",
       "      <td>18.1</td>\n",
       "      <td>0.0</td>\n",
       "      <td>0.668</td>\n",
       "      <td>4.138</td>\n",
       "      <td>100.0</td>\n",
       "      <td>1.1370</td>\n",
       "      <td>24.0</td>\n",
       "      <td>666.0</td>\n",
       "      <td>20.2</td>\n",
       "      <td>396.90</td>\n",
       "      <td>37.97</td>\n",
       "    </tr>\n",
       "    <tr>\n",
       "      <th>375</th>\n",
       "      <td>NaN</td>\n",
       "      <td>0.0</td>\n",
       "      <td>18.1</td>\n",
       "      <td>0.0</td>\n",
       "      <td>0.671</td>\n",
       "      <td>7.313</td>\n",
       "      <td>97.9</td>\n",
       "      <td>1.3163</td>\n",
       "      <td>24.0</td>\n",
       "      <td>666.0</td>\n",
       "      <td>20.2</td>\n",
       "      <td>396.90</td>\n",
       "      <td>13.44</td>\n",
       "    </tr>\n",
       "    <tr>\n",
       "      <th>376</th>\n",
       "      <td>NaN</td>\n",
       "      <td>0.0</td>\n",
       "      <td>18.1</td>\n",
       "      <td>0.0</td>\n",
       "      <td>0.671</td>\n",
       "      <td>6.649</td>\n",
       "      <td>93.3</td>\n",
       "      <td>1.3449</td>\n",
       "      <td>24.0</td>\n",
       "      <td>666.0</td>\n",
       "      <td>20.2</td>\n",
       "      <td>363.02</td>\n",
       "      <td>23.24</td>\n",
       "    </tr>\n",
       "    <tr>\n",
       "      <th>377</th>\n",
       "      <td>9.82349</td>\n",
       "      <td>0.0</td>\n",
       "      <td>18.1</td>\n",
       "      <td>0.0</td>\n",
       "      <td>0.671</td>\n",
       "      <td>6.794</td>\n",
       "      <td>98.8</td>\n",
       "      <td>1.3580</td>\n",
       "      <td>24.0</td>\n",
       "      <td>666.0</td>\n",
       "      <td>20.2</td>\n",
       "      <td>396.90</td>\n",
       "      <td>21.24</td>\n",
       "    </tr>\n",
       "  </tbody>\n",
       "</table>\n",
       "</div>"
      ],
      "text/plain": [
       "        CRIM   ZN  INDUS  CHAS    NOX     RM    AGE     DIS   RAD    TAX  \\\n",
       "374      NaN  0.0   18.1   0.0  0.668  4.138  100.0  1.1370  24.0  666.0   \n",
       "375      NaN  0.0   18.1   0.0  0.671  7.313   97.9  1.3163  24.0  666.0   \n",
       "376      NaN  0.0   18.1   0.0  0.671  6.649   93.3  1.3449  24.0  666.0   \n",
       "377  9.82349  0.0   18.1   0.0  0.671  6.794   98.8  1.3580  24.0  666.0   \n",
       "\n",
       "     PTRATIO       B  LSTAT  \n",
       "374     20.2  396.90  37.97  \n",
       "375     20.2  396.90  13.44  \n",
       "376     20.2  363.02  23.24  \n",
       "377     20.2  396.90  21.24  "
      ]
     },
     "execution_count": 15,
     "metadata": {},
     "output_type": "execute_result"
    }
   ],
   "source": [
    "# Probable outliers detected trough Tukey method\n",
    "\n",
    "df_imp = df.copy(deep=True)\n",
    "\n",
    "#Turn outliers into missing values for imputation\n",
    "def outliers_to_nan(df, variable_name, probable_outliers):\n",
    "    for i in probable_outliers_tm:\n",
    "        df.at[i, variable_name] = None\n",
    "    return df\n",
    "\n",
    "df_imp = outliers_to_nan(df_imp, 'CRIM', probable_outliers_tm)                    \n",
    "\n",
    "#df_imp[374:378] #to test NaN values       "
   ]
  },
  {
   "cell_type": "markdown",
   "metadata": {},
   "source": [
    "As an estimator, let us chose regularized linear regression (BayesianRidge), and for simplicity, we will set m=1 (single imputation). As already mentioned and also written in sklearns [user-guide](https://scikit-learn.org/stable/modules/impute.html#iterative-imputer), the imputer can be used for multiple imputations"
   ]
  },
  {
   "cell_type": "code",
   "execution_count": 17,
   "metadata": {
    "ExecuteTime": {
     "end_time": "2021-02-19T21:01:29.227528Z",
     "start_time": "2021-02-19T21:01:28.985680Z"
    }
   },
   "outputs": [
    {
     "name": "stdout",
     "output_type": "stream",
     "text": [
      "count    506.000000\n",
      "mean       2.366051\n",
      "std        3.695306\n",
      "min        0.006320\n",
      "25%        0.082045\n",
      "50%        0.256510\n",
      "75%        3.677083\n",
      "max       14.438300\n",
      "Name: CRIM, dtype: float64\n"
     ]
    },
    {
     "data": {
      "text/plain": [
       "<AxesSubplot:xlabel='CRIM', ylabel='Density'>"
      ]
     },
     "execution_count": 17,
     "metadata": {},
     "output_type": "execute_result"
    },
    {
     "data": {
      "image/png": "[encoded data removed]",
      "text/plain": [
       "<Figure size 432x288 with 1 Axes>"
      ]
     },
     "metadata": {
      "needs_background": "light"
     },
     "output_type": "display_data"
    }
   ],
   "source": [
    "#Define imputer\n",
    "imputer = IterativeImputer(estimator=BayesianRidge(),\n",
    "                           n_nearest_features=None,\n",
    "                           imputation_order='ascending')\n",
    "                           #, sample_posterior=True)\n",
    "\n",
    "    #Fit imputer and transform                          \n",
    "imputer.fit(df_imp)\n",
    "df_imp_tf = imputer.transform(df_imp)\n",
    "df_imp = pd.DataFrame(df_imp_tf, columns = columns)\n",
    "\n",
    "#New mean lowers to 2.36 with random seed at 10\n",
    "print(df_imp['CRIM'].describe())\n",
    "\n",
    "#New distribution plot\n",
    "sns.distplot(df_imp['CRIM'])"
   ]
  },
  {
   "cell_type": "markdown",
   "metadata": {},
   "source": [
    "Again, the mean crime rate per capita changed from 3.61 to 2.36\n",
    "\n",
    "#### For univariate outliers:\n",
    "- Next to treating missing data, often used technique for recoding outliers\n",
    "- Multiple imputation more robust, single (e.g., mean) imputation is biased\n",
    "- For imputation, R offers more mature and flexible packages than python.\n",
    "\n",
    "#### For multivariate outliers:\n",
    "- Imputation does not really make sense for multivariate outliers as they are defined as outlying observations across multiple variables (for a multiple outlier all entries would turn into a missing value leaving little space for prediction)\n",
    "\n",
    "The treatment of outlying data points is a highly subjective task as there is no mathematical right or wrong solution. Qualitative information, such as knowing the source of an outlier or an outlier’s influence, can simplify treatment decisions. Error outliers are best to be corrected or deleted, while non-error outliers can be <b>kept, deleted, or recoded</b>. Several recoding methods exist for extreme values, with <b>winsorizing</b> and <b>multiple imputations</b> being among the popular ones.\n",
    "\n",
    "An essential task is to report the outcome with and without outliers and supplying sound reasoning and explanation when treating outliers."
   ]
  },
  {
   "cell_type": "code",
   "execution_count": null,
   "metadata": {},
   "outputs": [],
   "source": []
  }
 ],
 "metadata": {
  "kernelspec": {
   "display_name": "Python 3",
   "language": "python",
   "name": "python3"
  },
  "language_info": {
   "codemirror_mode": {
    "name": "ipython",
    "version": 3
   },
   "file_extension": ".py",
   "mimetype": "text/x-python",
   "name": "python",
   "nbconvert_exporter": "python",
   "pygments_lexer": "ipython3",
   "version": "3.8.5"
  },
  "latex_envs": {
   "LaTeX_envs_menu_present": true,
   "autoclose": false,
   "autocomplete": true,
   "bibliofile": "biblio.bib",
   "cite_by": "apalike",
   "current_citInitial": 1,
   "eqLabelWithNumbers": true,
   "eqNumInitial": 1,
   "hotkeys": {
    "equation": "Ctrl-E",
    "itemize": "Ctrl-I"
   },
   "labels_anchors": false,
   "latex_user_defs": false,
   "report_style_numbering": false,
   "user_envs_cfg": false
  },
  "varInspector": {
   "cols": {
    "lenName": 16,
    "lenType": 16,
    "lenVar": 40
   },
   "kernels_config": {
    "python": {
     "delete_cmd_postfix": "",
     "delete_cmd_prefix": "del ",
     "library": "var_list.py",
     "varRefreshCmd": "print(var_dic_list())"
    },
    "r": {
     "delete_cmd_postfix": ") ",
     "delete_cmd_prefix": "rm(",
     "library": "var_list.r",
     "varRefreshCmd": "cat(var_dic_list()) "
    }
   },
   "types_to_exclude": [
    "module",
    "function",
    "builtin_function_or_method",
    "instance",
    "_Feature"
   ],
   "window_display": false
  }
 },
 "nbformat": 4,
 "nbformat_minor": 4
}
