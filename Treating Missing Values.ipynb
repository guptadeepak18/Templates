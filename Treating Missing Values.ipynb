{
 "cells": [
  {
   "cell_type": "markdown",
   "metadata": {},
   "source": [
    "# Using knnImputer"
   ]
  },
  {
   "cell_type": "code",
   "execution_count": null,
   "metadata": {},
   "outputs": [],
   "source": [
    "import pandas as pd\n",
    "\n",
    "# load dataset\n",
    "url = 'https://raw.githubusercontent.com/jbrownlee/Datasets/master/horse-colic.csv'\n",
    "dataframe = pd.read_csv(url, header=None, na_values='?')\n",
    "dataframe.head()"
   ]
  },
  {
   "cell_type": "code",
   "execution_count": null,
   "metadata": {},
   "outputs": [],
   "source": [
    "dataframe.info()"
   ]
  },
  {
   "cell_type": "code",
   "execution_count": null,
   "metadata": {},
   "outputs": [],
   "source": [
    "# summarize the number of rows with missing values for each column\n",
    "\n",
    "for i in range(dataframe.shape[1]):\n",
    "    # count number of rows with missing values\n",
    "    n_miss = dataframe[[i]].isnull().sum()\n",
    "    perc = n_miss / dataframe.shape[0] * 100\n",
    "    print('> %d, Missing: %d (%.1f%%)' % (i, n_miss, perc))"
   ]
  },
  {
   "cell_type": "code",
   "execution_count": null,
   "metadata": {},
   "outputs": [],
   "source": [
    "# define imputer\n",
    "\n",
    "from sklearn.impute import KNNImputer\n",
    "imputer = KNNImputer()"
   ]
  },
  {
   "cell_type": "code",
   "execution_count": null,
   "metadata": {},
   "outputs": [],
   "source": [
    "# fit on the dataset\n",
    "imputer.fit(dataframe)\n",
    "\n",
    "# transform the dataset\n",
    "Xtrans = imputer.transform(dataframe)"
   ]
  },
  {
   "cell_type": "code",
   "execution_count": null,
   "metadata": {},
   "outputs": [],
   "source": [
    "xtrans = imputer.fit_transform(dataframe)"
   ]
  },
  {
   "cell_type": "code",
   "execution_count": null,
   "metadata": {},
   "outputs": [],
   "source": [
    "Xtrans = pd.DataFrame(Xtrans)\n",
    "Xtrans.isnull().sum().sum()"
   ]
  },
  {
   "cell_type": "markdown",
   "metadata": {},
   "source": [
    "# Using SimpleImputer"
   ]
  },
  {
   "cell_type": "code",
   "execution_count": null,
   "metadata": {},
   "outputs": [],
   "source": [
    "import numpy as np \n",
    "\n",
    "# Importing the SimpleImputer class \n",
    "from sklearn.impute import SimpleImputer \n",
    "\n",
    "# Imputer object using the mean strategy and \n",
    "# missing_values type for imputation \n",
    "imputer = SimpleImputer(missing_values = np.nan, strategy ='mean') \n",
    "\n",
    "data = [[12, np.nan, 34], [10, 32, np.nan], [np.nan, 11, 20]] \n",
    "\n",
    "print(\"Original Data : \\n\", data) \n",
    "# Fitting the data to the imputer object \n",
    "imputer = imputer.fit(data) \n",
    "\n",
    "# Imputing the data\t \n",
    "data = imputer.transform(data) \n",
    "\n",
    "print(\"Imputed Data : \\n\", data) \n"
   ]
  },
  {
   "cell_type": "markdown",
   "metadata": {},
   "source": [
    "# Using fancyimputer"
   ]
  },
  {
   "cell_type": "markdown",
   "metadata": {},
   "source": [
    "fancyimpute is a library for missing data imputation algorithms. Fancyimpute use machine learning algorithm to impute missing values. Fancyimpute uses all the column to impute the missing values. There are two ways missing data can be imputed using Fancyimpute\n",
    "\n",
    "- KNN or K-Nearest Neighbor\n",
    "- MICE or Multiple Imputation by Chained Equation"
   ]
  },
  {
   "cell_type": "markdown",
   "metadata": {},
   "source": [
    "### K-Nearest Neighbor\n",
    "\n",
    "To fill out the missing values KNN finds out the similar data points among all the features. Then it took the average of all the points to fill in the missing values."
   ]
  },
  {
   "cell_type": "code",
   "execution_count": 2,
   "metadata": {
    "ExecuteTime": {
     "end_time": "2021-02-19T15:36:10.900703Z",
     "start_time": "2021-02-19T15:36:10.860719Z"
    }
   },
   "outputs": [
    {
     "name": "stdout",
     "output_type": "stream",
     "text": [
      "     A    B    C  D\n",
      "0  NaN  2.0  NaN  0\n",
      "1  3.0  4.0  NaN  1\n",
      "2  NaN  NaN  NaN  5\n",
      "3  NaN  3.0  NaN  4\n",
      "4  5.0  7.0  8.0  2\n",
      "5  2.0  5.0  7.0  9\n",
      "Imputing row 1/6 with 2 missing, elapsed time: 0.001\n",
      "          A         B         C    D\n",
      "0  3.235569  2.000000  7.756303  0.0\n",
      "1  3.000000  4.000000  7.825000  1.0\n",
      "2  3.676471  3.463866  7.640000  5.0\n",
      "3  3.355140  3.000000  7.591837  4.0\n",
      "4  5.000000  7.000000  8.000000  2.0\n",
      "5  2.000000  5.000000  7.000000  9.0\n"
     ]
    }
   ],
   "source": [
    "#!pip install fancyimpute\n",
    "# easy_install fancyimpute     ##run this line on conda prompt\n",
    "# pip install numpy --upgrade --user        ##run this line on conda prompt    \n",
    "\n",
    "import pandas as pd \n",
    "import numpy as np \n",
    "# importing the KNN from fancyimpute library \n",
    "from fancyimpute import KNN \n",
    "\n",
    "df = pd.DataFrame([[np.nan, 2, np.nan, 0], \n",
    "                   [3, 4, np.nan, 1], \n",
    "                   [np.nan, np.nan, np.nan, 5], \n",
    "                   [np.nan, 3, np.nan, 4], \n",
    "                   [5,\t 7, 8,\t 2], \n",
    "                   [2,\t 5, 7,\t 9]], \n",
    "                  columns = list('ABCD')) \n",
    "\n",
    "# printing the dataframe \n",
    "print(df) \n",
    "\n",
    "# calling the KNN class \n",
    "knn_imputer = KNN() \n",
    "# imputing the missing value with knn imputer \n",
    "df = knn_imputer.fit_transform(df) \n",
    "\n",
    "# printing dataframe \n",
    "print(pd.DataFrame(df, columns=list('ABCD'))) \n"
   ]
  },
  {
   "cell_type": "markdown",
   "metadata": {},
   "source": [
    "### Multiple Imputation by Chained Equation:\n",
    "\n",
    "MICE uses multiple imputation instead of single imputation which results in statistical uncertainty. MICE perform multiple regression over the sample data and take averages of them"
   ]
  },
  {
   "cell_type": "code",
   "execution_count": 3,
   "metadata": {
    "ExecuteTime": {
     "end_time": "2021-02-19T15:36:26.290452Z",
     "start_time": "2021-02-19T15:36:25.913106Z"
    }
   },
   "outputs": [
    {
     "name": "stdout",
     "output_type": "stream",
     "text": [
      "     A    B    C  D\n",
      "0  NaN  2.0  NaN  0\n",
      "1  3.0  4.0  NaN  1\n",
      "2  NaN  NaN  NaN  5\n",
      "3  NaN  3.0  NaN  4\n",
      "4  5.0  7.0  8.0  2\n",
      "5  2.0  5.0  7.0  9\n",
      "          A         B         C    D\n",
      "0  1.739135  2.000000  7.906731  0.0\n",
      "1  3.000000  4.000000  7.919353  1.0\n",
      "2  2.304308  4.235237  7.441668  5.0\n",
      "3  1.608699  3.000000  7.481066  4.0\n",
      "4  5.000000  7.000000  8.000000  2.0\n",
      "5  2.000000  5.000000  7.000000  9.0\n"
     ]
    }
   ],
   "source": [
    "import pandas as pd \n",
    "import numpy as np \n",
    "\n",
    "# importing the MICE from fancyimpute library \n",
    "from sklearn.experimental import enable_iterative_imputer\n",
    "from fancyimpute import IterativeImputer \n",
    "\n",
    "df = pd.DataFrame([[np.nan, 2, np.nan, 0], \n",
    "                   [3, 4, np.nan, 1], \n",
    "                   [np.nan, np.nan, np.nan, 5], \n",
    "                   [np.nan, 3, np.nan, 4], \n",
    "                   [5, 7, 8, 2], \n",
    "                   [2, 5, 7, 9]], \n",
    "                  columns = list('ABCD')) \n",
    "\n",
    "# printing the dataframe \n",
    "print(df) \n",
    "\n",
    "# calling the MICE class \n",
    "mice_imputer = IterativeImputer() \n",
    "# imputing the missing value with mice imputer \n",
    "df = mice_imputer.fit_transform(df) \n",
    "\n",
    "# printing dataframe \n",
    "print(pd.DataFrame(df, columns=list('ABCD'))) \n"
   ]
  },
  {
   "cell_type": "markdown",
   "metadata": {},
   "source": [
    "# Using autoimpute"
   ]
  },
  {
   "cell_type": "markdown",
   "metadata": {},
   "source": [
    "### Main Features\n",
    "- Utility functions to examine patterns in missing data and decide on relevant features for imputation\n",
    "- Missingness classifier and automatic missing data test set generator\n",
    "- Native handling for categorical variables (as predictors and targets of imputation)\n",
    "- Single and multiple imputation classes for pandas DataFrames\n",
    "- Custom visualization support for utility functions and imputation methods\n",
    "- Analysis methods and pooled parameter inference using multiply imputed datasets\n",
    "- Numerous imputation methods, as specified in the table below:"
   ]
  },
  {
   "cell_type": "code",
   "execution_count": 4,
   "metadata": {
    "ExecuteTime": {
     "end_time": "2021-02-19T15:50:30.175063Z",
     "start_time": "2021-02-19T15:50:21.646697Z"
    }
   },
   "outputs": [
    {
     "name": "stderr",
     "output_type": "stream",
     "text": [
      "WARNING (theano.configdefaults): g++ not available, if using conda: `conda install m2w64-toolchain`\n",
      "WARNING (theano.configdefaults): g++ not detected ! Theano will be unable to execute optimized C-implementations (for both CPU and GPU) and will default to Python implementations. Performance will be severely degraded. To remove this warning, set Theano flags cxx to an empty string.\n",
      "WARNING (theano.tensor.blas): Using NumPy C-API based implementation for BLAS functions.\n"
     ]
    }
   ],
   "source": [
    "# pip install autoimpute\n",
    "\n",
    "from autoimpute.imputations import SingleImputer, MultipleImputer, MiceImputer\n",
    "\n",
    "si = SingleImputer() # pass through data once\n",
    "mi = MultipleImputer() # pass through data multiple times\n",
    "mice = MiceImputer() # pass through data multiple times and iteratively optimize imputations in each column"
   ]
  },
  {
   "cell_type": "markdown",
   "metadata": {
    "ExecuteTime": {
     "end_time": "2021-02-19T15:53:28.080150Z",
     "start_time": "2021-02-19T15:53:26.990327Z"
    }
   },
   "source": [
    "https://kearnz.github.io/autoimpute-tutorials/"
   ]
  },
  {
   "cell_type": "code",
   "execution_count": null,
   "metadata": {},
   "outputs": [],
   "source": []
  }
 ],
 "metadata": {
  "kernelspec": {
   "display_name": "Python 3",
   "language": "python",
   "name": "python3"
  },
  "language_info": {
   "codemirror_mode": {
    "name": "ipython",
    "version": 3
   },
   "file_extension": ".py",
   "mimetype": "text/x-python",
   "name": "python",
   "nbconvert_exporter": "python",
   "pygments_lexer": "ipython3",
   "version": "3.8.5"
  },
  "latex_envs": {
   "LaTeX_envs_menu_present": true,
   "autoclose": false,
   "autocomplete": true,
   "bibliofile": "biblio.bib",
   "cite_by": "apalike",
   "current_citInitial": 1,
   "eqLabelWithNumbers": true,
   "eqNumInitial": 1,
   "hotkeys": {
    "equation": "Ctrl-E",
    "itemize": "Ctrl-I"
   },
   "labels_anchors": false,
   "latex_user_defs": false,
   "report_style_numbering": false,
   "user_envs_cfg": false
  },
  "varInspector": {
   "cols": {
    "lenName": "32",
    "lenType": 16,
    "lenVar": 40
   },
   "kernels_config": {
    "python": {
     "delete_cmd_postfix": "",
     "delete_cmd_prefix": "del ",
     "library": "var_list.py",
     "varRefreshCmd": "print(var_dic_list())"
    },
    "r": {
     "delete_cmd_postfix": ") ",
     "delete_cmd_prefix": "rm(",
     "library": "var_list.r",
     "varRefreshCmd": "cat(var_dic_list()) "
    }
   },
   "position": {
    "height": "209.212px",
    "left": "1078.89px",
    "right": "20px",
    "top": "134px",
    "width": "342.775px"
   },
   "types_to_exclude": [
    "module",
    "function",
    "builtin_function_or_method",
    "instance",
    "_Feature"
   ],
   "window_display": false
  }
 },
 "nbformat": 4,
 "nbformat_minor": 2
}
